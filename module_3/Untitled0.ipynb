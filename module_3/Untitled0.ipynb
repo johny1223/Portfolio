{
  "nbformat": 4,
  "nbformat_minor": 0,
  "metadata": {
    "colab": {
      "name": "Untitled0.ipynb",
      "provenance": [],
      "collapsed_sections": []
    },
    "kernelspec": {
      "name": "python3",
      "display_name": "Python 3"
    }
  },
  "cells": [
    {
      "cell_type": "code",
      "metadata": {
        "colab": {
          "base_uri": "https://localhost:8080/",
          "height": 570
        },
        "id": "AVyAosuw6Wn5",
        "outputId": "0b120300-d127-439f-e93d-47a851f30323"
      },
      "source": [
        "import pandas as pd\r\n",
        "\r\n",
        "df = pd.read_csv('/content/main_task.xls',sep=\",\")\r\n",
        "# Какие столбцы НЕ содержат пропущенных (None) значений?\r\n",
        "df.dropna(axis=1)"
      ],
      "execution_count": 1,
      "outputs": [
        {
          "output_type": "execute_result",
          "data": {
            "text/html": [
              "<div>\n",
              "<style scoped>\n",
              "    .dataframe tbody tr th:only-of-type {\n",
              "        vertical-align: middle;\n",
              "    }\n",
              "\n",
              "    .dataframe tbody tr th {\n",
              "        vertical-align: top;\n",
              "    }\n",
              "\n",
              "    .dataframe thead th {\n",
              "        text-align: right;\n",
              "    }\n",
              "</style>\n",
              "<table border=\"1\" class=\"dataframe\">\n",
              "  <thead>\n",
              "    <tr style=\"text-align: right;\">\n",
              "      <th></th>\n",
              "      <th>Restaurant_id</th>\n",
              "      <th>City</th>\n",
              "      <th>Ranking</th>\n",
              "      <th>Rating</th>\n",
              "      <th>Reviews</th>\n",
              "      <th>URL_TA</th>\n",
              "      <th>ID_TA</th>\n",
              "    </tr>\n",
              "  </thead>\n",
              "  <tbody>\n",
              "    <tr>\n",
              "      <th>0</th>\n",
              "      <td>id_5569</td>\n",
              "      <td>Paris</td>\n",
              "      <td>5570.0</td>\n",
              "      <td>3.5</td>\n",
              "      <td>[['Good food at your doorstep', 'A good hotel ...</td>\n",
              "      <td>/Restaurant_Review-g187147-d1912643-Reviews-R_...</td>\n",
              "      <td>d1912643</td>\n",
              "    </tr>\n",
              "    <tr>\n",
              "      <th>1</th>\n",
              "      <td>id_1535</td>\n",
              "      <td>Stockholm</td>\n",
              "      <td>1537.0</td>\n",
              "      <td>4.0</td>\n",
              "      <td>[['Unique cuisine', 'Delicious Nepalese food']...</td>\n",
              "      <td>/Restaurant_Review-g189852-d7992032-Reviews-Bu...</td>\n",
              "      <td>d7992032</td>\n",
              "    </tr>\n",
              "    <tr>\n",
              "      <th>2</th>\n",
              "      <td>id_352</td>\n",
              "      <td>London</td>\n",
              "      <td>353.0</td>\n",
              "      <td>4.5</td>\n",
              "      <td>[['Catch up with friends', 'Not exceptional'],...</td>\n",
              "      <td>/Restaurant_Review-g186338-d8632781-Reviews-RO...</td>\n",
              "      <td>d8632781</td>\n",
              "    </tr>\n",
              "    <tr>\n",
              "      <th>3</th>\n",
              "      <td>id_3456</td>\n",
              "      <td>Berlin</td>\n",
              "      <td>3458.0</td>\n",
              "      <td>5.0</td>\n",
              "      <td>[[], []]</td>\n",
              "      <td>/Restaurant_Review-g187323-d1358776-Reviews-Es...</td>\n",
              "      <td>d1358776</td>\n",
              "    </tr>\n",
              "    <tr>\n",
              "      <th>4</th>\n",
              "      <td>id_615</td>\n",
              "      <td>Munich</td>\n",
              "      <td>621.0</td>\n",
              "      <td>4.0</td>\n",
              "      <td>[['Best place to try a Bavarian food', 'Nice b...</td>\n",
              "      <td>/Restaurant_Review-g187309-d6864963-Reviews-Au...</td>\n",
              "      <td>d6864963</td>\n",
              "    </tr>\n",
              "    <tr>\n",
              "      <th>...</th>\n",
              "      <td>...</td>\n",
              "      <td>...</td>\n",
              "      <td>...</td>\n",
              "      <td>...</td>\n",
              "      <td>...</td>\n",
              "      <td>...</td>\n",
              "      <td>...</td>\n",
              "    </tr>\n",
              "    <tr>\n",
              "      <th>39995</th>\n",
              "      <td>id_499</td>\n",
              "      <td>Milan</td>\n",
              "      <td>500.0</td>\n",
              "      <td>4.5</td>\n",
              "      <td>[['The real Italian experience!', 'Wonderful f...</td>\n",
              "      <td>/Restaurant_Review-g187849-d2104414-Reviews-Ro...</td>\n",
              "      <td>d2104414</td>\n",
              "    </tr>\n",
              "    <tr>\n",
              "      <th>39996</th>\n",
              "      <td>id_6340</td>\n",
              "      <td>Paris</td>\n",
              "      <td>6341.0</td>\n",
              "      <td>3.5</td>\n",
              "      <td>[['Parisian atmosphere', 'Bit pricey but inter...</td>\n",
              "      <td>/Restaurant_Review-g187147-d1800036-Reviews-La...</td>\n",
              "      <td>d1800036</td>\n",
              "    </tr>\n",
              "    <tr>\n",
              "      <th>39997</th>\n",
              "      <td>id_1649</td>\n",
              "      <td>Stockholm</td>\n",
              "      <td>1652.0</td>\n",
              "      <td>4.5</td>\n",
              "      <td>[['Good by swedish standards', 'A hidden jewel...</td>\n",
              "      <td>/Restaurant_Review-g189852-d947615-Reviews-Sus...</td>\n",
              "      <td>d947615</td>\n",
              "    </tr>\n",
              "    <tr>\n",
              "      <th>39998</th>\n",
              "      <td>id_640</td>\n",
              "      <td>Warsaw</td>\n",
              "      <td>641.0</td>\n",
              "      <td>4.0</td>\n",
              "      <td>[['Underground restaurant', 'Oldest Restaurant...</td>\n",
              "      <td>/Restaurant_Review-g274856-d1100838-Reviews-Ho...</td>\n",
              "      <td>d1100838</td>\n",
              "    </tr>\n",
              "    <tr>\n",
              "      <th>39999</th>\n",
              "      <td>id_4824</td>\n",
              "      <td>Milan</td>\n",
              "      <td>4827.0</td>\n",
              "      <td>3.0</td>\n",
              "      <td>[['Average', 'Nice an informal'], ['01/31/2016...</td>\n",
              "      <td>/Restaurant_Review-g187849-d1109020-Reviews-Ta...</td>\n",
              "      <td>d1109020</td>\n",
              "    </tr>\n",
              "  </tbody>\n",
              "</table>\n",
              "<p>40000 rows × 7 columns</p>\n",
              "</div>"
            ],
            "text/plain": [
              "      Restaurant_id  ...     ID_TA\n",
              "0           id_5569  ...  d1912643\n",
              "1           id_1535  ...  d7992032\n",
              "2            id_352  ...  d8632781\n",
              "3           id_3456  ...  d1358776\n",
              "4            id_615  ...  d6864963\n",
              "...             ...  ...       ...\n",
              "39995        id_499  ...  d2104414\n",
              "39996       id_6340  ...  d1800036\n",
              "39997       id_1649  ...   d947615\n",
              "39998        id_640  ...  d1100838\n",
              "39999       id_4824  ...  d1109020\n",
              "\n",
              "[40000 rows x 7 columns]"
            ]
          },
          "metadata": {
            "tags": []
          },
          "execution_count": 1
        }
      ]
    },
    {
      "cell_type": "code",
      "metadata": {
        "colab": {
          "base_uri": "https://localhost:8080/"
        },
        "id": "8xyuvnJ98E2I",
        "outputId": "7f39db28-ab2e-466e-9ea4-5b5db4e49e90"
      },
      "source": [
        "# В каких столбцах данные хранятся в числовом формате?\r\n",
        "df.info()"
      ],
      "execution_count": 2,
      "outputs": [
        {
          "output_type": "stream",
          "text": [
            "<class 'pandas.core.frame.DataFrame'>\n",
            "RangeIndex: 40000 entries, 0 to 39999\n",
            "Data columns (total 10 columns):\n",
            " #   Column             Non-Null Count  Dtype  \n",
            "---  ------             --------------  -----  \n",
            " 0   Restaurant_id      40000 non-null  object \n",
            " 1   City               40000 non-null  object \n",
            " 2   Cuisine Style      30717 non-null  object \n",
            " 3   Ranking            40000 non-null  float64\n",
            " 4   Rating             40000 non-null  float64\n",
            " 5   Price Range        26114 non-null  object \n",
            " 6   Number of Reviews  37457 non-null  float64\n",
            " 7   Reviews            40000 non-null  object \n",
            " 8   URL_TA             40000 non-null  object \n",
            " 9   ID_TA              40000 non-null  object \n",
            "dtypes: float64(3), object(7)\n",
            "memory usage: 3.1+ MB\n"
          ],
          "name": "stdout"
        }
      ]
    },
    {
      "cell_type": "code",
      "metadata": {
        "id": "QuLvvD5G8TN_"
      },
      "source": [
        "# В каких столбцах хранящиеся данные представляют собой список?\r\n",
        "# ни в одном"
      ],
      "execution_count": 3,
      "outputs": []
    },
    {
      "cell_type": "code",
      "metadata": {
        "id": "7eo8j54Q84Rx"
      },
      "source": [
        "# Разбиваем датафрейм на части, необходимые для обучения и тестирования модели\r\n",
        "# Х - данные с информацией о ресторанах, у - целевая переменная (рейтинги ресторанов)\r\n",
        "X = df.drop(['Restaurant_id', 'Rating'], axis = 1)\r\n",
        "y = df['Rating']"
      ],
      "execution_count": 4,
      "outputs": []
    },
    {
      "cell_type": "code",
      "metadata": {
        "id": "0VTOt1k1_wGF"
      },
      "source": [
        "# Загружаем специальный инструмент для разбивки:\r\n",
        "from sklearn.model_selection import train_test_split"
      ],
      "execution_count": 5,
      "outputs": []
    },
    {
      "cell_type": "code",
      "metadata": {
        "id": "_r2_JzAe_yvU"
      },
      "source": [
        "# Наборы данных с меткой \"train\" будут использоваться для обучения модели, \"test\" - для тестирования.\r\n",
        "# Для тестирования мы будем использовать 25% от исходного датасета.\r\n",
        "X_train, X_test, y_train, y_test = train_test_split(X, y, test_size=0.25)"
      ],
      "execution_count": 6,
      "outputs": []
    },
    {
      "cell_type": "code",
      "metadata": {
        "id": "3Jw8svhoAM5e"
      },
      "source": [
        "# Создаём, обучаем и тестируем модель\r\n",
        "# Импортируем необходимые библиотеки:\r\n",
        "from sklearn.ensemble import RandomForestRegressor # инструмент для создания и обучения модели\r\n",
        "from sklearn import metrics # инструменты для оценки точности модели"
      ],
      "execution_count": 7,
      "outputs": []
    },
    {
      "cell_type": "code",
      "metadata": {
        "colab": {
          "base_uri": "https://localhost:8080/",
          "height": 402
        },
        "id": "N5oSMVKNAW2P",
        "outputId": "cb40aeb3-13cc-4888-f5b0-8008f36d3f7d"
      },
      "source": [
        "# Чтобы код, отвечающий за обучение модели, заработал, мы должны использовать в нём датафрейм, содержащий только количественные признаки и не содержащий None-значений\r\n",
        "# Удалим столбцы, содержащие данные типа object\r\n",
        "X_test = X_test.drop(['City', 'Cuisine Style', 'Price Range', 'Reviews', 'URL_TA', 'ID_TA'], axis=1)\r\n",
        "X_test"
      ],
      "execution_count": 8,
      "outputs": [
        {
          "output_type": "execute_result",
          "data": {
            "text/html": [
              "<div>\n",
              "<style scoped>\n",
              "    .dataframe tbody tr th:only-of-type {\n",
              "        vertical-align: middle;\n",
              "    }\n",
              "\n",
              "    .dataframe tbody tr th {\n",
              "        vertical-align: top;\n",
              "    }\n",
              "\n",
              "    .dataframe thead th {\n",
              "        text-align: right;\n",
              "    }\n",
              "</style>\n",
              "<table border=\"1\" class=\"dataframe\">\n",
              "  <thead>\n",
              "    <tr style=\"text-align: right;\">\n",
              "      <th></th>\n",
              "      <th>Ranking</th>\n",
              "      <th>Number of Reviews</th>\n",
              "    </tr>\n",
              "  </thead>\n",
              "  <tbody>\n",
              "    <tr>\n",
              "      <th>8575</th>\n",
              "      <td>5195.0</td>\n",
              "      <td>7.0</td>\n",
              "    </tr>\n",
              "    <tr>\n",
              "      <th>11640</th>\n",
              "      <td>769.0</td>\n",
              "      <td>51.0</td>\n",
              "    </tr>\n",
              "    <tr>\n",
              "      <th>22314</th>\n",
              "      <td>5844.0</td>\n",
              "      <td>35.0</td>\n",
              "    </tr>\n",
              "    <tr>\n",
              "      <th>33302</th>\n",
              "      <td>3218.0</td>\n",
              "      <td>18.0</td>\n",
              "    </tr>\n",
              "    <tr>\n",
              "      <th>5429</th>\n",
              "      <td>2796.0</td>\n",
              "      <td>26.0</td>\n",
              "    </tr>\n",
              "    <tr>\n",
              "      <th>...</th>\n",
              "      <td>...</td>\n",
              "      <td>...</td>\n",
              "    </tr>\n",
              "    <tr>\n",
              "      <th>1703</th>\n",
              "      <td>4720.0</td>\n",
              "      <td>7.0</td>\n",
              "    </tr>\n",
              "    <tr>\n",
              "      <th>6725</th>\n",
              "      <td>731.0</td>\n",
              "      <td>22.0</td>\n",
              "    </tr>\n",
              "    <tr>\n",
              "      <th>11606</th>\n",
              "      <td>7605.0</td>\n",
              "      <td>68.0</td>\n",
              "    </tr>\n",
              "    <tr>\n",
              "      <th>39437</th>\n",
              "      <td>1276.0</td>\n",
              "      <td>180.0</td>\n",
              "    </tr>\n",
              "    <tr>\n",
              "      <th>10995</th>\n",
              "      <td>3678.0</td>\n",
              "      <td>2.0</td>\n",
              "    </tr>\n",
              "  </tbody>\n",
              "</table>\n",
              "<p>10000 rows × 2 columns</p>\n",
              "</div>"
            ],
            "text/plain": [
              "       Ranking  Number of Reviews\n",
              "8575    5195.0                7.0\n",
              "11640    769.0               51.0\n",
              "22314   5844.0               35.0\n",
              "33302   3218.0               18.0\n",
              "5429    2796.0               26.0\n",
              "...        ...                ...\n",
              "1703    4720.0                7.0\n",
              "6725     731.0               22.0\n",
              "11606   7605.0               68.0\n",
              "39437   1276.0              180.0\n",
              "10995   3678.0                2.0\n",
              "\n",
              "[10000 rows x 2 columns]"
            ]
          },
          "metadata": {
            "tags": []
          },
          "execution_count": 8
        }
      ]
    },
    {
      "cell_type": "code",
      "metadata": {
        "colab": {
          "base_uri": "https://localhost:8080/",
          "height": 402
        },
        "id": "MhByStyCE8Nd",
        "outputId": "a0c722f9-5454-4581-db44-920c4e19f704"
      },
      "source": [
        "# заполним пропущенные значения (None или NaN) средним арифметическим значением или нуль для всего столбца\r\n",
        "X_test = X_test.rename({'Ranking': 'Ranking', 'Number of Reviews': 'Number_of_Reviews'}, axis=1)\r\n",
        "X_test = pd.DataFrame(X_test)\r\n",
        "X_test"
      ],
      "execution_count": 9,
      "outputs": [
        {
          "output_type": "execute_result",
          "data": {
            "text/html": [
              "<div>\n",
              "<style scoped>\n",
              "    .dataframe tbody tr th:only-of-type {\n",
              "        vertical-align: middle;\n",
              "    }\n",
              "\n",
              "    .dataframe tbody tr th {\n",
              "        vertical-align: top;\n",
              "    }\n",
              "\n",
              "    .dataframe thead th {\n",
              "        text-align: right;\n",
              "    }\n",
              "</style>\n",
              "<table border=\"1\" class=\"dataframe\">\n",
              "  <thead>\n",
              "    <tr style=\"text-align: right;\">\n",
              "      <th></th>\n",
              "      <th>Ranking</th>\n",
              "      <th>Number_of_Reviews</th>\n",
              "    </tr>\n",
              "  </thead>\n",
              "  <tbody>\n",
              "    <tr>\n",
              "      <th>8575</th>\n",
              "      <td>5195.0</td>\n",
              "      <td>7.0</td>\n",
              "    </tr>\n",
              "    <tr>\n",
              "      <th>11640</th>\n",
              "      <td>769.0</td>\n",
              "      <td>51.0</td>\n",
              "    </tr>\n",
              "    <tr>\n",
              "      <th>22314</th>\n",
              "      <td>5844.0</td>\n",
              "      <td>35.0</td>\n",
              "    </tr>\n",
              "    <tr>\n",
              "      <th>33302</th>\n",
              "      <td>3218.0</td>\n",
              "      <td>18.0</td>\n",
              "    </tr>\n",
              "    <tr>\n",
              "      <th>5429</th>\n",
              "      <td>2796.0</td>\n",
              "      <td>26.0</td>\n",
              "    </tr>\n",
              "    <tr>\n",
              "      <th>...</th>\n",
              "      <td>...</td>\n",
              "      <td>...</td>\n",
              "    </tr>\n",
              "    <tr>\n",
              "      <th>1703</th>\n",
              "      <td>4720.0</td>\n",
              "      <td>7.0</td>\n",
              "    </tr>\n",
              "    <tr>\n",
              "      <th>6725</th>\n",
              "      <td>731.0</td>\n",
              "      <td>22.0</td>\n",
              "    </tr>\n",
              "    <tr>\n",
              "      <th>11606</th>\n",
              "      <td>7605.0</td>\n",
              "      <td>68.0</td>\n",
              "    </tr>\n",
              "    <tr>\n",
              "      <th>39437</th>\n",
              "      <td>1276.0</td>\n",
              "      <td>180.0</td>\n",
              "    </tr>\n",
              "    <tr>\n",
              "      <th>10995</th>\n",
              "      <td>3678.0</td>\n",
              "      <td>2.0</td>\n",
              "    </tr>\n",
              "  </tbody>\n",
              "</table>\n",
              "<p>10000 rows × 2 columns</p>\n",
              "</div>"
            ],
            "text/plain": [
              "       Ranking  Number_of_Reviews\n",
              "8575    5195.0                7.0\n",
              "11640    769.0               51.0\n",
              "22314   5844.0               35.0\n",
              "33302   3218.0               18.0\n",
              "5429    2796.0               26.0\n",
              "...        ...                ...\n",
              "1703    4720.0                7.0\n",
              "6725     731.0               22.0\n",
              "11606   7605.0               68.0\n",
              "39437   1276.0              180.0\n",
              "10995   3678.0                2.0\n",
              "\n",
              "[10000 rows x 2 columns]"
            ]
          },
          "metadata": {
            "tags": []
          },
          "execution_count": 9
        }
      ]
    },
    {
      "cell_type": "code",
      "metadata": {
        "colab": {
          "base_uri": "https://localhost:8080/",
          "height": 402
        },
        "id": "56SXZoV0Il46",
        "outputId": "54bd9a19-1cbd-4c64-c24c-67233a1850df"
      },
      "source": [
        "X_test.Ranking = X_test.Ranking.fillna(sum(X_test.Ranking)/len(X_test.Ranking))\r\n",
        "X_test.Number_of_Reviews = X_test.Number_of_Reviews.fillna('0')\r\n",
        "X_test"
      ],
      "execution_count": 10,
      "outputs": [
        {
          "output_type": "execute_result",
          "data": {
            "text/html": [
              "<div>\n",
              "<style scoped>\n",
              "    .dataframe tbody tr th:only-of-type {\n",
              "        vertical-align: middle;\n",
              "    }\n",
              "\n",
              "    .dataframe tbody tr th {\n",
              "        vertical-align: top;\n",
              "    }\n",
              "\n",
              "    .dataframe thead th {\n",
              "        text-align: right;\n",
              "    }\n",
              "</style>\n",
              "<table border=\"1\" class=\"dataframe\">\n",
              "  <thead>\n",
              "    <tr style=\"text-align: right;\">\n",
              "      <th></th>\n",
              "      <th>Ranking</th>\n",
              "      <th>Number_of_Reviews</th>\n",
              "    </tr>\n",
              "  </thead>\n",
              "  <tbody>\n",
              "    <tr>\n",
              "      <th>8575</th>\n",
              "      <td>5195.0</td>\n",
              "      <td>7</td>\n",
              "    </tr>\n",
              "    <tr>\n",
              "      <th>11640</th>\n",
              "      <td>769.0</td>\n",
              "      <td>51</td>\n",
              "    </tr>\n",
              "    <tr>\n",
              "      <th>22314</th>\n",
              "      <td>5844.0</td>\n",
              "      <td>35</td>\n",
              "    </tr>\n",
              "    <tr>\n",
              "      <th>33302</th>\n",
              "      <td>3218.0</td>\n",
              "      <td>18</td>\n",
              "    </tr>\n",
              "    <tr>\n",
              "      <th>5429</th>\n",
              "      <td>2796.0</td>\n",
              "      <td>26</td>\n",
              "    </tr>\n",
              "    <tr>\n",
              "      <th>...</th>\n",
              "      <td>...</td>\n",
              "      <td>...</td>\n",
              "    </tr>\n",
              "    <tr>\n",
              "      <th>1703</th>\n",
              "      <td>4720.0</td>\n",
              "      <td>7</td>\n",
              "    </tr>\n",
              "    <tr>\n",
              "      <th>6725</th>\n",
              "      <td>731.0</td>\n",
              "      <td>22</td>\n",
              "    </tr>\n",
              "    <tr>\n",
              "      <th>11606</th>\n",
              "      <td>7605.0</td>\n",
              "      <td>68</td>\n",
              "    </tr>\n",
              "    <tr>\n",
              "      <th>39437</th>\n",
              "      <td>1276.0</td>\n",
              "      <td>180</td>\n",
              "    </tr>\n",
              "    <tr>\n",
              "      <th>10995</th>\n",
              "      <td>3678.0</td>\n",
              "      <td>2</td>\n",
              "    </tr>\n",
              "  </tbody>\n",
              "</table>\n",
              "<p>10000 rows × 2 columns</p>\n",
              "</div>"
            ],
            "text/plain": [
              "       Ranking Number_of_Reviews\n",
              "8575    5195.0                 7\n",
              "11640    769.0                51\n",
              "22314   5844.0                35\n",
              "33302   3218.0                18\n",
              "5429    2796.0                26\n",
              "...        ...               ...\n",
              "1703    4720.0                 7\n",
              "6725     731.0                22\n",
              "11606   7605.0                68\n",
              "39437   1276.0               180\n",
              "10995   3678.0                 2\n",
              "\n",
              "[10000 rows x 2 columns]"
            ]
          },
          "metadata": {
            "tags": []
          },
          "execution_count": 10
        }
      ]
    },
    {
      "cell_type": "code",
      "metadata": {
        "colab": {
          "base_uri": "https://localhost:8080/",
          "height": 402
        },
        "id": "JpkJXggoKjlQ",
        "outputId": "8cd1e0d6-7191-4169-dcfb-6a0ee48c1f5c"
      },
      "source": [
        "# То же самое для X_train\r\n",
        "X_train= X_train.drop(['City', 'Cuisine Style', 'Price Range', 'Reviews', 'URL_TA', 'ID_TA'], axis=1)\r\n",
        "X_train = X_train.rename({'Ranking': 'Ranking', 'Number of Reviews': 'Number_of_Reviews'}, axis=1)\r\n",
        "X_train = pd.DataFrame(X_train)\r\n",
        "X_train.Ranking = X_train.Ranking.fillna(sum(X_train.Ranking)/len(X_train.Ranking))\r\n",
        "X_train"
      ],
      "execution_count": 11,
      "outputs": [
        {
          "output_type": "execute_result",
          "data": {
            "text/html": [
              "<div>\n",
              "<style scoped>\n",
              "    .dataframe tbody tr th:only-of-type {\n",
              "        vertical-align: middle;\n",
              "    }\n",
              "\n",
              "    .dataframe tbody tr th {\n",
              "        vertical-align: top;\n",
              "    }\n",
              "\n",
              "    .dataframe thead th {\n",
              "        text-align: right;\n",
              "    }\n",
              "</style>\n",
              "<table border=\"1\" class=\"dataframe\">\n",
              "  <thead>\n",
              "    <tr style=\"text-align: right;\">\n",
              "      <th></th>\n",
              "      <th>Ranking</th>\n",
              "      <th>Number_of_Reviews</th>\n",
              "    </tr>\n",
              "  </thead>\n",
              "  <tbody>\n",
              "    <tr>\n",
              "      <th>32043</th>\n",
              "      <td>490.0</td>\n",
              "      <td>153.0</td>\n",
              "    </tr>\n",
              "    <tr>\n",
              "      <th>20026</th>\n",
              "      <td>4530.0</td>\n",
              "      <td>108.0</td>\n",
              "    </tr>\n",
              "    <tr>\n",
              "      <th>11773</th>\n",
              "      <td>2812.0</td>\n",
              "      <td>198.0</td>\n",
              "    </tr>\n",
              "    <tr>\n",
              "      <th>24181</th>\n",
              "      <td>481.0</td>\n",
              "      <td>204.0</td>\n",
              "    </tr>\n",
              "    <tr>\n",
              "      <th>24737</th>\n",
              "      <td>685.0</td>\n",
              "      <td>58.0</td>\n",
              "    </tr>\n",
              "    <tr>\n",
              "      <th>...</th>\n",
              "      <td>...</td>\n",
              "      <td>...</td>\n",
              "    </tr>\n",
              "    <tr>\n",
              "      <th>18640</th>\n",
              "      <td>126.0</td>\n",
              "      <td>618.0</td>\n",
              "    </tr>\n",
              "    <tr>\n",
              "      <th>24961</th>\n",
              "      <td>4814.0</td>\n",
              "      <td>72.0</td>\n",
              "    </tr>\n",
              "    <tr>\n",
              "      <th>33741</th>\n",
              "      <td>394.0</td>\n",
              "      <td>347.0</td>\n",
              "    </tr>\n",
              "    <tr>\n",
              "      <th>27638</th>\n",
              "      <td>9262.0</td>\n",
              "      <td>12.0</td>\n",
              "    </tr>\n",
              "    <tr>\n",
              "      <th>19221</th>\n",
              "      <td>1147.0</td>\n",
              "      <td>5.0</td>\n",
              "    </tr>\n",
              "  </tbody>\n",
              "</table>\n",
              "<p>30000 rows × 2 columns</p>\n",
              "</div>"
            ],
            "text/plain": [
              "       Ranking  Number_of_Reviews\n",
              "32043    490.0              153.0\n",
              "20026   4530.0              108.0\n",
              "11773   2812.0              198.0\n",
              "24181    481.0              204.0\n",
              "24737    685.0               58.0\n",
              "...        ...                ...\n",
              "18640    126.0              618.0\n",
              "24961   4814.0               72.0\n",
              "33741    394.0              347.0\n",
              "27638   9262.0               12.0\n",
              "19221   1147.0                5.0\n",
              "\n",
              "[30000 rows x 2 columns]"
            ]
          },
          "metadata": {
            "tags": []
          },
          "execution_count": 11
        }
      ]
    },
    {
      "cell_type": "code",
      "metadata": {
        "id": "zZZLWWUdZZxl"
      },
      "source": [
        "# заполним пропущенные значения (None или NaN) нулем для всего столбца\r\n",
        "X_train.Number_of_Reviews = X_train.Number_of_Reviews.fillna('0')"
      ],
      "execution_count": 12,
      "outputs": []
    },
    {
      "cell_type": "code",
      "metadata": {
        "colab": {
          "base_uri": "https://localhost:8080/"
        },
        "id": "EUGoNru3P_D5",
        "outputId": "58583bed-b728-476d-b5f0-09dc77c5d9e8"
      },
      "source": [
        "# заполним пропущенные значения (None или NaN) каким-то одним значением средним арифметическим для всего столбца\r\n",
        "y_train = y_train.fillna(sum(y_train)/len(y_train))\r\n",
        "y_train"
      ],
      "execution_count": 13,
      "outputs": [
        {
          "output_type": "execute_result",
          "data": {
            "text/plain": [
              "32043    4.0\n",
              "20026    4.5\n",
              "11773    4.0\n",
              "24181    4.5\n",
              "24737    4.5\n",
              "        ... \n",
              "18640    4.0\n",
              "24961    4.5\n",
              "33741    4.0\n",
              "27638    4.0\n",
              "19221    5.0\n",
              "Name: Rating, Length: 30000, dtype: float64"
            ]
          },
          "metadata": {
            "tags": []
          },
          "execution_count": 13
        }
      ]
    },
    {
      "cell_type": "code",
      "metadata": {
        "id": "8nK4qC5MQd6R"
      },
      "source": [
        "# Создаём модель\r\n",
        "regr = RandomForestRegressor(n_estimators=100)\r\n",
        "\r\n",
        "# Обучаем модель на тестовом наборе данных\r\n",
        "regr.fit(X_train, y_train)\r\n",
        "\r\n",
        "# Используем обученную модель для предсказания рейтинга ресторанов в тестовой выборке.\r\n",
        "# Предсказанные значения записываем в переменную y_pred\r\n",
        "y_pred = regr.predict(X_test)"
      ],
      "execution_count": 14,
      "outputs": []
    },
    {
      "cell_type": "code",
      "metadata": {
        "colab": {
          "base_uri": "https://localhost:8080/"
        },
        "id": "etIx_qK3i0cS",
        "outputId": "7e98df52-c392-4ebe-8614-2bb67f343cb5"
      },
      "source": [
        "# Сравниваем предсказанные значения (y_pred) с реальными (y_test), и смотрим насколько они в среднем отличаются\r\n",
        "# Метрика называется Mean Absolute Error (MAE) и показывает среднее отклонение предсказанных значений от фактических.\r\n",
        "print('MAE:', metrics.mean_absolute_error(y_test, y_pred))"
      ],
      "execution_count": 15,
      "outputs": [
        {
          "output_type": "stream",
          "text": [
            "MAE: 0.427887545959596\n"
          ],
          "name": "stdout"
        }
      ]
    },
    {
      "cell_type": "code",
      "metadata": {
        "colab": {
          "base_uri": "https://localhost:8080/"
        },
        "id": "afJv4aDyrvew",
        "outputId": "e9e15142-fe14-44fa-cecd-f0553e106d9a"
      },
      "source": [
        "# Повысить точность прогнозов\r\n",
        "# Сколько вариантов непустых значений встречается в столбце Price Range?\r\n",
        "df['Price Range'].value_counts(dropna = False)"
      ],
      "execution_count": 16,
      "outputs": [
        {
          "output_type": "execute_result",
          "data": {
            "text/plain": [
              "$$ - $$$    18412\n",
              "NaN         13886\n",
              "$            6279\n",
              "$$$$         1423\n",
              "Name: Price Range, dtype: int64"
            ]
          },
          "metadata": {
            "tags": []
          },
          "execution_count": 16
        }
      ]
    },
    {
      "cell_type": "code",
      "metadata": {
        "colab": {
          "base_uri": "https://localhost:8080/",
          "height": 397
        },
        "id": "mvC_NAKau1XM",
        "outputId": "b5336693-c92c-4dc6-d025-b86d1e655f71"
      },
      "source": [
        "df.head()"
      ],
      "execution_count": 17,
      "outputs": [
        {
          "output_type": "execute_result",
          "data": {
            "text/html": [
              "<div>\n",
              "<style scoped>\n",
              "    .dataframe tbody tr th:only-of-type {\n",
              "        vertical-align: middle;\n",
              "    }\n",
              "\n",
              "    .dataframe tbody tr th {\n",
              "        vertical-align: top;\n",
              "    }\n",
              "\n",
              "    .dataframe thead th {\n",
              "        text-align: right;\n",
              "    }\n",
              "</style>\n",
              "<table border=\"1\" class=\"dataframe\">\n",
              "  <thead>\n",
              "    <tr style=\"text-align: right;\">\n",
              "      <th></th>\n",
              "      <th>Restaurant_id</th>\n",
              "      <th>City</th>\n",
              "      <th>Cuisine Style</th>\n",
              "      <th>Ranking</th>\n",
              "      <th>Rating</th>\n",
              "      <th>Price Range</th>\n",
              "      <th>Number of Reviews</th>\n",
              "      <th>Reviews</th>\n",
              "      <th>URL_TA</th>\n",
              "      <th>ID_TA</th>\n",
              "    </tr>\n",
              "  </thead>\n",
              "  <tbody>\n",
              "    <tr>\n",
              "      <th>0</th>\n",
              "      <td>id_5569</td>\n",
              "      <td>Paris</td>\n",
              "      <td>['European', 'French', 'International']</td>\n",
              "      <td>5570.0</td>\n",
              "      <td>3.5</td>\n",
              "      <td>$$ - $$$</td>\n",
              "      <td>194.0</td>\n",
              "      <td>[['Good food at your doorstep', 'A good hotel ...</td>\n",
              "      <td>/Restaurant_Review-g187147-d1912643-Reviews-R_...</td>\n",
              "      <td>d1912643</td>\n",
              "    </tr>\n",
              "    <tr>\n",
              "      <th>1</th>\n",
              "      <td>id_1535</td>\n",
              "      <td>Stockholm</td>\n",
              "      <td>NaN</td>\n",
              "      <td>1537.0</td>\n",
              "      <td>4.0</td>\n",
              "      <td>NaN</td>\n",
              "      <td>10.0</td>\n",
              "      <td>[['Unique cuisine', 'Delicious Nepalese food']...</td>\n",
              "      <td>/Restaurant_Review-g189852-d7992032-Reviews-Bu...</td>\n",
              "      <td>d7992032</td>\n",
              "    </tr>\n",
              "    <tr>\n",
              "      <th>2</th>\n",
              "      <td>id_352</td>\n",
              "      <td>London</td>\n",
              "      <td>['Japanese', 'Sushi', 'Asian', 'Grill', 'Veget...</td>\n",
              "      <td>353.0</td>\n",
              "      <td>4.5</td>\n",
              "      <td>$$$$</td>\n",
              "      <td>688.0</td>\n",
              "      <td>[['Catch up with friends', 'Not exceptional'],...</td>\n",
              "      <td>/Restaurant_Review-g186338-d8632781-Reviews-RO...</td>\n",
              "      <td>d8632781</td>\n",
              "    </tr>\n",
              "    <tr>\n",
              "      <th>3</th>\n",
              "      <td>id_3456</td>\n",
              "      <td>Berlin</td>\n",
              "      <td>NaN</td>\n",
              "      <td>3458.0</td>\n",
              "      <td>5.0</td>\n",
              "      <td>NaN</td>\n",
              "      <td>3.0</td>\n",
              "      <td>[[], []]</td>\n",
              "      <td>/Restaurant_Review-g187323-d1358776-Reviews-Es...</td>\n",
              "      <td>d1358776</td>\n",
              "    </tr>\n",
              "    <tr>\n",
              "      <th>4</th>\n",
              "      <td>id_615</td>\n",
              "      <td>Munich</td>\n",
              "      <td>['German', 'Central European', 'Vegetarian Fri...</td>\n",
              "      <td>621.0</td>\n",
              "      <td>4.0</td>\n",
              "      <td>$$ - $$$</td>\n",
              "      <td>84.0</td>\n",
              "      <td>[['Best place to try a Bavarian food', 'Nice b...</td>\n",
              "      <td>/Restaurant_Review-g187309-d6864963-Reviews-Au...</td>\n",
              "      <td>d6864963</td>\n",
              "    </tr>\n",
              "  </tbody>\n",
              "</table>\n",
              "</div>"
            ],
            "text/plain": [
              "  Restaurant_id  ...     ID_TA\n",
              "0       id_5569  ...  d1912643\n",
              "1       id_1535  ...  d7992032\n",
              "2        id_352  ...  d8632781\n",
              "3       id_3456  ...  d1358776\n",
              "4        id_615  ...  d6864963\n",
              "\n",
              "[5 rows x 10 columns]"
            ]
          },
          "metadata": {
            "tags": []
          },
          "execution_count": 17
        }
      ]
    },
    {
      "cell_type": "code",
      "metadata": {
        "colab": {
          "base_uri": "https://localhost:8080/"
        },
        "id": "I14Bn3GyvFQQ",
        "outputId": "8982df29-48b9-49a4-907d-1c395fc7da29"
      },
      "source": [
        "# Сколько городов представлено в наборе данных?\r\n",
        "len(df['City'].value_counts())"
      ],
      "execution_count": 18,
      "outputs": [
        {
          "output_type": "execute_result",
          "data": {
            "text/plain": [
              "31"
            ]
          },
          "metadata": {
            "tags": []
          },
          "execution_count": 18
        }
      ]
    },
    {
      "cell_type": "code",
      "metadata": {
        "colab": {
          "base_uri": "https://localhost:8080/"
        },
        "id": "ggx392BbvVb-",
        "outputId": "54d00b87-a7d4-4c63-b35d-d46dceb42678"
      },
      "source": [
        "# Сколько типов кухонь представлено в наборе данных?\r\n",
        "import re\r\n",
        "\r\n",
        "df['Cuisine Style'] = df['Cuisine Style'].fillna(value='other')\r\n",
        "# Посчитаем сколько всего видов кухонь и составим из них список\r\n",
        "pattern = re.compile('\\w+\\s*\\w+\\s*\\w*')\r\n",
        "cuisines =[]\r\n",
        "for string in df['Cuisine Style']:\r\n",
        "  if string != 'other':\r\n",
        "    c = pattern.findall(string)\r\n",
        "  cuisines.append(c)\r\n",
        "# Создадим список с уникальными значениями\r\n",
        "cuis = set()\r\n",
        "for item in cuisines:\r\n",
        "  for i in item:\r\n",
        "    cuis.add(i)\r\n",
        "cuis.add(i)\r\n",
        "# общее количество уникальных кухонь\r\n",
        "len(cuis)"
      ],
      "execution_count": 19,
      "outputs": [
        {
          "output_type": "execute_result",
          "data": {
            "text/plain": [
              "126"
            ]
          },
          "metadata": {
            "tags": []
          },
          "execution_count": 19
        }
      ]
    },
    {
      "cell_type": "code",
      "metadata": {
        "colab": {
          "base_uri": "https://localhost:8080/"
        },
        "id": "MsgtgHW0_15r",
        "outputId": "854d6982-47e2-4b47-b779-2d152157eda3"
      },
      "source": [
        "# Какая кухня представлена в наибольшем количестве ресторанов? \r\n",
        "cuisin ={}\r\n",
        "for i in cuis: \r\n",
        "  cuisin[i] = 0\r\n",
        "for item in cuisines:\r\n",
        "  for i in item:\r\n",
        "    cuisin[i] += 1\r\n",
        "cuisin"
      ],
      "execution_count": 20,
      "outputs": [
        {
          "output_type": "execute_result",
          "data": {
            "text/plain": [
              "{'Afghani': 25,\n",
              " 'African': 194,\n",
              " 'Albanian': 13,\n",
              " 'American': 1687,\n",
              " 'Arabic': 63,\n",
              " 'Argentinean': 212,\n",
              " 'Armenian': 21,\n",
              " 'Asian': 3925,\n",
              " 'Australian': 32,\n",
              " 'Austrian': 509,\n",
              " 'Azerbaijani': 4,\n",
              " 'Balti': 115,\n",
              " 'Bangladeshi': 97,\n",
              " 'Bar': 4306,\n",
              " 'Barbecue': 716,\n",
              " 'Belgian': 350,\n",
              " 'Brazilian': 158,\n",
              " 'Brew Pub': 287,\n",
              " 'British': 2091,\n",
              " 'Burmese': 2,\n",
              " 'Cafe': 3048,\n",
              " 'Cajun ': 26,\n",
              " 'Cambodian': 33,\n",
              " 'Canadian': 8,\n",
              " 'Caribbean': 125,\n",
              " 'Caucasian': 5,\n",
              " 'Central American': 171,\n",
              " 'Central Asian': 17,\n",
              " 'Central European': 1797,\n",
              " 'Chilean': 10,\n",
              " 'Chinese': 1492,\n",
              " 'Colombian': 22,\n",
              " 'Contemporary': 706,\n",
              " 'Creole': 26,\n",
              " 'Croatian': 38,\n",
              " 'Cuban': 33,\n",
              " 'Czech': 761,\n",
              " 'Danish': 232,\n",
              " 'Delicatessen': 532,\n",
              " 'Diner': 378,\n",
              " 'Dutch': 397,\n",
              " 'Eastern European': 629,\n",
              " 'Ecuadorean': 6,\n",
              " 'Egyptian': 28,\n",
              " 'Ethiopian': 56,\n",
              " 'European': 13146,\n",
              " 'Fast Food': 2260,\n",
              " 'Filipino': 13,\n",
              " 'French': 4177,\n",
              " 'Fujian': 3,\n",
              " 'Fusion': 745,\n",
              " 'Gastropub': 619,\n",
              " 'Georgian': 24,\n",
              " 'German': 858,\n",
              " 'Gluten Free Options': 5364,\n",
              " 'Greek': 821,\n",
              " 'Grill': 634,\n",
              " 'Halal': 758,\n",
              " 'Hawaiian': 25,\n",
              " 'Healthy': 816,\n",
              " 'Hungarian': 452,\n",
              " 'Indian': 1378,\n",
              " 'Indonesian': 75,\n",
              " 'International': 2073,\n",
              " 'Irish': 371,\n",
              " 'Israeli': 95,\n",
              " 'Italian': 7828,\n",
              " 'Jamaican': 37,\n",
              " 'Japanese': 1907,\n",
              " 'Korean': 213,\n",
              " 'Kosher': 62,\n",
              " 'Latin': 386,\n",
              " 'Latvian': 1,\n",
              " 'Lebanese': 412,\n",
              " 'Malaysian': 38,\n",
              " 'Mediterranean': 8184,\n",
              " 'Mexican': 569,\n",
              " 'Middle Eastern': 994,\n",
              " 'Minority Chinese': 12,\n",
              " 'Mongolian': 20,\n",
              " 'Moroccan': 178,\n",
              " 'Native American': 4,\n",
              " 'Nepali': 106,\n",
              " 'New Zealand': 6,\n",
              " 'Norwegian': 100,\n",
              " 'Pakistani': 171,\n",
              " 'Persian': 66,\n",
              " 'Peruvian': 127,\n",
              " 'Pizza': 3744,\n",
              " 'Polish': 491,\n",
              " 'Polynesian': 2,\n",
              " 'Portuguese': 1409,\n",
              " 'Pub': 3186,\n",
              " 'Romanian': 16,\n",
              " 'Russian': 76,\n",
              " 'Salvadoran': 1,\n",
              " 'Scandinavian': 454,\n",
              " 'Scottish': 207,\n",
              " 'Seafood': 1962,\n",
              " 'Singaporean': 24,\n",
              " 'Slovenian': 85,\n",
              " 'Soups': 626,\n",
              " 'South American': 460,\n",
              " 'Southwestern': 17,\n",
              " 'Spanish': 3620,\n",
              " 'Sri Lankan': 32,\n",
              " 'Steakhouse': 776,\n",
              " 'Street Food': 333,\n",
              " 'Sushi': 1498,\n",
              " 'Swedish': 212,\n",
              " 'Swiss': 235,\n",
              " 'Taiwanese': 26,\n",
              " 'Thai': 973,\n",
              " 'Tibetan': 28,\n",
              " 'Tunisian': 28,\n",
              " 'Turkish': 579,\n",
              " 'Ukrainian': 22,\n",
              " 'Uzbek': 7,\n",
              " 'Vegan Options': 5882,\n",
              " 'Vegetarian Friendly': 14599,\n",
              " 'Venezuelan': 49,\n",
              " 'Vietnamese': 648,\n",
              " 'Welsh': 3,\n",
              " 'Wine Bar': 920,\n",
              " 'Xinjiang': 1,\n",
              " 'Yunnan': 2}"
            ]
          },
          "metadata": {
            "tags": []
          },
          "execution_count": 20
        }
      ]
    },
    {
      "cell_type": "code",
      "metadata": {
        "colab": {
          "base_uri": "https://localhost:8080/"
        },
        "id": "ewnvuw1b5izj",
        "outputId": "b27961a6-8a7f-4e09-95b9-a1677d650b6d"
      },
      "source": [
        "# Какое среднее количество кухонь предлагается в одном ресторане? Если в данных отсутствует информация о типах кухонь, то считайте, что в этом ресторане предлагается только один тип кухни. Ответ округлите до одного знака после запятой\r\n",
        "cu = []\r\n",
        "cui=[]\r\n",
        "for string in df['Cuisine Style']:\r\n",
        "  c = pattern.findall(string)\r\n",
        "  cu.append(c) # список из всех видов кухонь включая other\r\n",
        "for item in cu:\r\n",
        "  for i in item:\r\n",
        "    cui.append(i)\r\n",
        "cui.append(i)# список со всеми кухнями (не уникальный)\r\n",
        "# общее количество кухонь делить на количество ресторанов\r\n",
        "len(cui)/40000\r\n"
      ],
      "execution_count": 21,
      "outputs": [
        {
          "output_type": "execute_result",
          "data": {
            "text/plain": [
              "2.622925"
            ]
          },
          "metadata": {
            "tags": []
          },
          "execution_count": 21
        }
      ]
    },
    {
      "cell_type": "code",
      "metadata": {
        "colab": {
          "base_uri": "https://localhost:8080/"
        },
        "id": "2ODlYjnquHgY",
        "outputId": "23dacbbe-453c-4fbb-828b-acef5c5b28ab"
      },
      "source": [
        "pattern2 = re.compile('\\d{2}/\\d{2}/\\d{4}')\r\n",
        "from datetime import datetime, timedelta\r\n",
        "#Записываем даты в список\r\n",
        "dates = []\r\n",
        "for string in df['Reviews']:\r\n",
        "    d = pattern2.findall(string)\r\n",
        "    dates.append(d)\r\n",
        "#Переводим даты в формат datetime\r\n",
        "datetime_list = []\r\n",
        "for line in dates:\r\n",
        "    if len(line)>=2:\r\n",
        "        new_date_list = []\r\n",
        "        for date in line:\r\n",
        "            date = date[0:10]\r\n",
        "            dt = datetime.strptime(date, '%m/%d/%Y')\r\n",
        "            new_date_list.append(dt)\r\n",
        "        datetime_list.append(new_date_list)\r\n",
        "#Находим разницу в днях между датами каждого второго отзыва с предыдущим\r\n",
        "delta_lst = []\r\n",
        "for i in range(0,len(datetime_list)):\r\n",
        "    delta = datetime_list[i][0] - datetime_list[i][1]\r\n",
        "    delta_lst.append(delta)\r\n",
        "\r\n",
        "# Какое максимальное количество дней отделяет даты публикации отзывов, размещённых на сайте ресторана? \r\n",
        "abs(max(delta_lst))\r\n",
        "# Когда был оставлен самый свежий отзыв? \r\n",
        "max(datetime_list)"
      ],
      "execution_count": 22,
      "outputs": [
        {
          "output_type": "execute_result",
          "data": {
            "text/plain": [
              "[datetime.datetime(2018, 2, 26, 0, 0), datetime.datetime(2018, 2, 26, 0, 0)]"
            ]
          },
          "metadata": {
            "tags": []
          },
          "execution_count": 22
        }
      ]
    },
    {
      "cell_type": "code",
      "metadata": {
        "colab": {
          "base_uri": "https://localhost:8080/"
        },
        "id": "P7B6UxP51Tty",
        "outputId": "adc79fd7-6288-4ca1-9190-618c1fa4fdd0"
      },
      "source": [
        "# Преобразуем столбец Price Range. Пусть у нас будет три категории, но числовые\r\n",
        "df['price']= df['Price Range']\r\n",
        "df.price.loc[df['Price Range']=='$'] = 1\r\n",
        "df.price.loc[df['Price Range']=='$$ - $$$'] = 2\r\n",
        "df.price.loc[df['Price Range']=='$$$$'] = 4\r\n",
        "df['price']=pd.to_numeric(df['price'])\r\n",
        "df['price']"
      ],
      "execution_count": 23,
      "outputs": [
        {
          "output_type": "stream",
          "text": [
            "/usr/local/lib/python3.6/dist-packages/pandas/core/indexing.py:670: SettingWithCopyWarning: \n",
            "A value is trying to be set on a copy of a slice from a DataFrame\n",
            "\n",
            "See the caveats in the documentation: https://pandas.pydata.org/pandas-docs/stable/user_guide/indexing.html#returning-a-view-versus-a-copy\n",
            "  iloc._setitem_with_indexer(indexer, value)\n"
          ],
          "name": "stderr"
        },
        {
          "output_type": "execute_result",
          "data": {
            "text/plain": [
              "0        2.0\n",
              "1        NaN\n",
              "2        4.0\n",
              "3        NaN\n",
              "4        2.0\n",
              "        ... \n",
              "39995    2.0\n",
              "39996    2.0\n",
              "39997    NaN\n",
              "39998    2.0\n",
              "39999    2.0\n",
              "Name: price, Length: 40000, dtype: float64"
            ]
          },
          "metadata": {
            "tags": []
          },
          "execution_count": 23
        }
      ]
    },
    {
      "cell_type": "code",
      "metadata": {
        "colab": {
          "base_uri": "https://localhost:8080/"
        },
        "id": "mbSSkPEG80PK",
        "outputId": "b72ce22e-7764-4f11-a4b2-afffc8031674"
      },
      "source": [
        "# Представлен 31 город, давайте зашируем их от 1 до 31\r\n",
        "df['code_city']= df['City']\r\n",
        "df.code_city.loc[df['City']=='London'] = 1\r\n",
        "df.code_city.loc[df['City']=='Paris'] = 2\r\n",
        "df.code_city.loc[df['City']=='Madrid'] = 3\r\n",
        "df.code_city.loc[df['City']=='Barcelona'] = 4\r\n",
        "df.code_city.loc[df['City']=='Berlin'] = 5\r\n",
        "df.code_city.loc[df['City']=='Milan'] = 6\r\n",
        "df.code_city.loc[df['City']=='Rome'] = 7\r\n",
        "df.code_city.loc[df['City']=='Prague'] = 8\r\n",
        "df.code_city.loc[df['City']=='Lisbon'] = 9\r\n",
        "df.code_city.loc[df['City']=='Vienna'] = 10\r\n",
        "df.code_city.loc[df['City']=='Amsterdam'] = 11\r\n",
        "df.code_city.loc[df['City']=='Brussels'] = 12\r\n",
        "df.code_city.loc[df['City']=='Hamburg'] = 13\r\n",
        "df.code_city.loc[df['City']=='Munich'] = 14\r\n",
        "df.code_city.loc[df['City']=='Lyon'] = 15\r\n",
        "df.code_city.loc[df['City']=='Stockholm'] = 16\r\n",
        "df.code_city.loc[df['City']=='Budapest'] = 17\r\n",
        "df.code_city.loc[df['City']=='Warsaw'] = 18\r\n",
        "df.code_city.loc[df['City']=='Dublin'] = 19\r\n",
        "df.code_city.loc[df['City']=='Copenhagen'] = 20\r\n",
        "df.code_city.loc[df['City']=='Athens'] = 21\r\n",
        "df.code_city.loc[df['City']=='Edinburgh'] = 22\r\n",
        "df.code_city.loc[df['City']=='Zurich'] = 23\r\n",
        "df.code_city.loc[df['City']=='Oporto'] = 24\r\n",
        "df.code_city.loc[df['City']=='Geneva'] = 25\r\n",
        "df.code_city.loc[df['City']=='Krakow'] = 26\r\n",
        "df.code_city.loc[df['City']=='Oslo'] = 27\r\n",
        "df.code_city.loc[df['City']=='Helsinki'] = 28\r\n",
        "df.code_city.loc[df['City']=='Bratislava'] = 29\r\n",
        "df.code_city.loc[df['City']=='Luxembourg'] = 30\r\n",
        "df.code_city.loc[df['City']=='Ljubljana'] = 31\r\n",
        "df['code_city']=pd.to_numeric(df['code_city'])\r\n",
        "df['code_city']"
      ],
      "execution_count": 24,
      "outputs": [
        {
          "output_type": "stream",
          "text": [
            "/usr/local/lib/python3.6/dist-packages/pandas/core/indexing.py:670: SettingWithCopyWarning: \n",
            "A value is trying to be set on a copy of a slice from a DataFrame\n",
            "\n",
            "See the caveats in the documentation: https://pandas.pydata.org/pandas-docs/stable/user_guide/indexing.html#returning-a-view-versus-a-copy\n",
            "  iloc._setitem_with_indexer(indexer, value)\n"
          ],
          "name": "stderr"
        },
        {
          "output_type": "execute_result",
          "data": {
            "text/plain": [
              "0         2\n",
              "1        16\n",
              "2         1\n",
              "3         5\n",
              "4        14\n",
              "         ..\n",
              "39995     6\n",
              "39996     2\n",
              "39997    16\n",
              "39998    18\n",
              "39999     6\n",
              "Name: code_city, Length: 40000, dtype: int64"
            ]
          },
          "metadata": {
            "tags": []
          },
          "execution_count": 24
        }
      ]
    },
    {
      "cell_type": "code",
      "metadata": {
        "id": "nays0zwtHBu7"
      },
      "source": [
        "# Добавим столбец с количеством кухонь в ресторане\r\n",
        "len_cu_1=[]\r\n",
        "for i in range(0, len(df['Cuisine Style'])):\r\n",
        "  len_cu=len(cu[i])\r\n",
        "  len_cu_1.append(len_cu)\r\n",
        "df['len_Cuisine'] = len_cu_1\r\n"
      ],
      "execution_count": 25,
      "outputs": []
    },
    {
      "cell_type": "code",
      "metadata": {
        "id": "Nj3qu2WpgGB9"
      },
      "source": [
        "# Пробуем еще раз вычислить МАЕ\r\n",
        "import numpy as np\r\n",
        "from scipy import stats\r\n",
        "X_1 = df.drop(['Restaurant_id', 'Rating'], axis = 1)\r\n",
        "y_1 = df['Rating']\r\n",
        "X_train_1, X_test_1, y_train_1, y_test_1 = train_test_split(X_1, y_1, test_size=0.25)\r\n",
        "X_train_1 = X_train_1.drop(['City', 'Cuisine Style', 'Price Range', 'Reviews', 'URL_TA', 'ID_TA'], axis=1)\r\n",
        "X_test_1 = X_test_1.drop(['City', 'Cuisine Style', 'Price Range', 'Reviews', 'URL_TA', 'ID_TA'], axis=1)\r\n",
        "# заменим na в price на моду\r\n",
        "X_train_1.price = X_train_1.price.fillna(int(stats.mode(X_train_1.price)[0]))"
      ],
      "execution_count": 26,
      "outputs": []
    },
    {
      "cell_type": "code",
      "metadata": {
        "id": "rMbkxWve8Olo"
      },
      "source": [
        "# заменим na в Number of Reviews на 0\r\n",
        "X_train_1 = X_train_1.rename({'Number of Reviews': 'Number_of_Reviews'}, axis=1)\r\n",
        "X_train_1.Number_of_Reviews = X_train_1.Number_of_Reviews.fillna(0)\r\n"
      ],
      "execution_count": 43,
      "outputs": []
    },
    {
      "cell_type": "code",
      "metadata": {
        "id": "yWRLtGsyEFUB"
      },
      "source": [
        "X_test_1 = X_test_1.rename({'Number of Reviews': 'Number_of_Reviews'}, axis=1)\r\n",
        "X_test_1.Number_of_Reviews = X_test_1.Number_of_Reviews.fillna(0)\r\n",
        "X_test_1.price = X_test_1.price.fillna(int(stats.mode(X_test_1.price)[0]))"
      ],
      "execution_count": 51,
      "outputs": []
    },
    {
      "cell_type": "code",
      "metadata": {
        "id": "JR4vD253Egh3"
      },
      "source": [
        "# Создаём модель\r\n",
        "regr_1 = RandomForestRegressor(n_estimators=100)\r\n",
        "\r\n",
        "# Обучаем модель на тестовом наборе данных\r\n",
        "regr_1.fit(X_train_1, y_train_1)\r\n",
        "\r\n",
        "# Используем обученную модель для предсказания рейтинга ресторанов в тестовой выборке.\r\n",
        "# Предсказанные значения записываем в переменную y_pred\r\n",
        "y_pred_1 = regr_1.predict(X_test_1)"
      ],
      "execution_count": 60,
      "outputs": []
    },
    {
      "cell_type": "code",
      "metadata": {
        "colab": {
          "base_uri": "https://localhost:8080/"
        },
        "id": "WuG2UilYE40p",
        "outputId": "a9413093-2331-45df-9b58-72f9f75a362b"
      },
      "source": [
        "# Сравниваем предсказанные значения (y_pred) с реальными (y_test), и смотрим насколько они в среднем отличаются\r\n",
        "# Метрика называется Mean Absolute Error (MAE) и показывает среднее отклонение предсказанных значений от фактических.\r\n",
        "print('MAE:', metrics.mean_absolute_error(y_test_1, y_pred_1))"
      ],
      "execution_count": 61,
      "outputs": [
        {
          "output_type": "stream",
          "text": [
            "MAE: 0.21502299999999996\n"
          ],
          "name": "stdout"
        }
      ]
    }
  ]
}
