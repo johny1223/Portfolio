{
  "nbformat": 4,
  "nbformat_minor": 0,
  "metadata": {
    "colab": {
      "name": "0-real_ds_миллионером..ipynb",
      "provenance": [],
      "collapsed_sections": [],
      "authorship_tag": "ABX9TyNyICWz0JKNyKFhlKEh2xJ8",
      "include_colab_link": true
    },
    "kernelspec": {
      "name": "python3",
      "display_name": "Python 3"
    }
  },
  "cells": [
    {
      "cell_type": "markdown",
      "metadata": {
        "id": "view-in-github",
        "colab_type": "text"
      },
      "source": [
        "<a href=\"https://colab.research.google.com/github/johny1223/projects/blob/master/0_real_ds_%D0%BC%D0%B8%D0%BB%D0%BB%D0%B8%D0%BE%D0%BD%D0%B5%D1%80%D0%BE%D0%BC_.ipynb\" target=\"_parent\"><img src=\"https://colab.research.google.com/assets/colab-badge.svg\" alt=\"Open In Colab\"/></a>"
      ]
    },
    {
      "cell_type": "markdown",
      "metadata": {
        "id": "pQj4t2wllQcV"
      },
      "source": [
        "Вопрос 1. У какого фильма из списка самый большой бюджет?"
      ]
    },
    {
      "cell_type": "code",
      "metadata": {
        "id": "OB00YnbAlaDW",
        "outputId": "bd2f5e0c-d735-4ea5-c245-b6f253682368",
        "colab": {
          "base_uri": "https://localhost:8080/"
        }
      },
      "source": [
        "import pandas as pd\n",
        "\n",
        "data1 = pd.read_csv('/content/movie_bd_v5.csv')\n",
        "data1.original_title[data1.budget == max(data1.budget)]"
      ],
      "execution_count": null,
      "outputs": [
        {
          "output_type": "execute_result",
          "data": {
            "text/plain": [
              "723    Pirates of the Caribbean: On Stranger Tides\n",
              "Name: original_title, dtype: object"
            ]
          },
          "metadata": {
            "tags": []
          },
          "execution_count": 1
        }
      ]
    },
    {
      "cell_type": "markdown",
      "metadata": {
        "id": "p4r7m1pYpbfm"
      },
      "source": [
        "Вопрос 2. Какой из фильмов самый длительный (в минутах)?"
      ]
    },
    {
      "cell_type": "code",
      "metadata": {
        "id": "4pc0t0DYn0_a",
        "outputId": "9c385dd3-1ed3-4e56-e79b-4ec782b89913",
        "colab": {
          "base_uri": "https://localhost:8080/"
        }
      },
      "source": [
        "import pandas as pd\n",
        "\n",
        "data2 = pd.read_csv('/content/movie_bd_v5.csv')\n",
        "data2.original_title[data2.runtime == max(data2.runtime)]"
      ],
      "execution_count": null,
      "outputs": [
        {
          "output_type": "execute_result",
          "data": {
            "text/plain": [
              "1157    Gods and Generals\n",
              "Name: original_title, dtype: object"
            ]
          },
          "metadata": {
            "tags": []
          },
          "execution_count": 2
        }
      ]
    },
    {
      "cell_type": "markdown",
      "metadata": {
        "id": "pmwK8ljRoHy6"
      },
      "source": [
        "Вопрос 3. Какой из фильмов самый короткий (в минутах)?"
      ]
    },
    {
      "cell_type": "code",
      "metadata": {
        "id": "BffQ_6YqoKwN",
        "outputId": "6fd4c3a5-15ba-4174-81ee-801a0a381700",
        "colab": {
          "base_uri": "https://localhost:8080/"
        }
      },
      "source": [
        "import pandas as pd\n",
        "\n",
        "data3 = pd.read_csv('/content/movie_bd_v5.csv')\n",
        "data3.original_title[data3.runtime == min(data3.runtime)]"
      ],
      "execution_count": null,
      "outputs": [
        {
          "output_type": "execute_result",
          "data": {
            "text/plain": [
              "768    Winnie the Pooh\n",
              "Name: original_title, dtype: object"
            ]
          },
          "metadata": {
            "tags": []
          },
          "execution_count": 135
        }
      ]
    },
    {
      "cell_type": "markdown",
      "metadata": {
        "id": "gvW3S0agpekF"
      },
      "source": [
        "Вопрос 4. Какова средняя длительность фильмов?"
      ]
    },
    {
      "cell_type": "code",
      "metadata": {
        "id": "URhEutdHoSdG",
        "outputId": "cc72d51e-3d3b-4001-a3e1-a9268e4acf67",
        "colab": {
          "base_uri": "https://localhost:8080/"
        }
      },
      "source": [
        "import pandas as pd\n",
        "\n",
        "data4 = pd.read_csv('/content/movie_bd_v5.csv')\n",
        "data4.runtime.mean()"
      ],
      "execution_count": null,
      "outputs": [
        {
          "output_type": "execute_result",
          "data": {
            "text/plain": [
              "109.6585494970884"
            ]
          },
          "metadata": {
            "tags": []
          },
          "execution_count": 3
        }
      ]
    },
    {
      "cell_type": "markdown",
      "metadata": {
        "id": "kRxS6u8ipG8S"
      },
      "source": [
        "Вопрос 5. Каково медианное значение длительности фильмов?"
      ]
    },
    {
      "cell_type": "code",
      "metadata": {
        "id": "jXHJoiPzpKQT",
        "outputId": "e7004bea-ce56-4f96-8363-4ea70fe9100d",
        "colab": {
          "base_uri": "https://localhost:8080/"
        }
      },
      "source": [
        "import pandas as pd\n",
        "\n",
        "data5 = pd.read_csv('/content/movie_bd_v5.csv')\n",
        "data5.runtime.median()"
      ],
      "execution_count": null,
      "outputs": [
        {
          "output_type": "execute_result",
          "data": {
            "text/plain": [
              "107.0"
            ]
          },
          "metadata": {
            "tags": []
          },
          "execution_count": 4
        }
      ]
    },
    {
      "cell_type": "markdown",
      "metadata": {
        "id": "e5qq3v2Opi7i"
      },
      "source": [
        "Вопрос 6. Какой фильм самый прибыльный?"
      ]
    },
    {
      "cell_type": "code",
      "metadata": {
        "id": "Moh2ek9spY5O",
        "outputId": "e7cde5a9-d260-4089-fdae-6fa47954aded",
        "colab": {
          "base_uri": "https://localhost:8080/"
        }
      },
      "source": [
        "import pandas as pd\n",
        "\n",
        "data6 = pd.read_csv('/content/movie_bd_v5.csv')\n",
        "data6['profit']= data6.revenue - data6.budget\n",
        "data6.original_title[data6.profit == max(data6.profit)]"
      ],
      "execution_count": null,
      "outputs": [
        {
          "output_type": "execute_result",
          "data": {
            "text/plain": [
              "239    Avatar\n",
              "Name: original_title, dtype: object"
            ]
          },
          "metadata": {
            "tags": []
          },
          "execution_count": 5
        }
      ]
    },
    {
      "cell_type": "markdown",
      "metadata": {
        "id": "XkJBK-p3puYz"
      },
      "source": [
        "Вопрос 7. Какой фильм самый убыточный?"
      ]
    },
    {
      "cell_type": "code",
      "metadata": {
        "id": "NvE8QcgXpxq_",
        "outputId": "cb1855db-185e-4545-fe17-378ef12d13ab",
        "colab": {
          "base_uri": "https://localhost:8080/"
        }
      },
      "source": [
        "import pandas as pd\n",
        "\n",
        "data7 = pd.read_csv('/content/movie_bd_v5.csv')\n",
        "data7['profit']= data7.revenue - data7.budget\n",
        "data7.original_title[data7.profit == min(data7.profit)]"
      ],
      "execution_count": null,
      "outputs": [
        {
          "output_type": "execute_result",
          "data": {
            "text/plain": [
              "1245    The Lone Ranger\n",
              "Name: original_title, dtype: object"
            ]
          },
          "metadata": {
            "tags": []
          },
          "execution_count": 6
        }
      ]
    },
    {
      "cell_type": "markdown",
      "metadata": {
        "id": "D9nGuZwdp7oJ"
      },
      "source": [
        "Вопрос 8. У скольких фильмов из датасета объем сборов оказался выше бюджета?"
      ]
    },
    {
      "cell_type": "code",
      "metadata": {
        "id": "S3wVcxkSp-9x",
        "outputId": "9fcf38ed-c545-4006-944a-2f57dbcf63bc",
        "colab": {
          "base_uri": "https://localhost:8080/"
        }
      },
      "source": [
        "import pandas as pd\n",
        "\n",
        "data = pd.read_csv('/content/movie_bd_v5.csv')\n",
        "data8=data.query('revenue > budget')\n",
        "data8.imdb_id.count()"
      ],
      "execution_count": null,
      "outputs": [
        {
          "output_type": "execute_result",
          "data": {
            "text/plain": [
              "1478"
            ]
          },
          "metadata": {
            "tags": []
          },
          "execution_count": 7
        }
      ]
    },
    {
      "cell_type": "markdown",
      "metadata": {
        "id": "ABmjuOP9qsJt"
      },
      "source": [
        "Вопрос 9. Какой фильм оказался самым кассовым в 2008 году?"
      ]
    },
    {
      "cell_type": "code",
      "metadata": {
        "id": "qAanPoUVqvJ1",
        "outputId": "c633ac77-23c5-4d11-dd0c-60a640aabc09",
        "colab": {
          "base_uri": "https://localhost:8080/"
        }
      },
      "source": [
        "import pandas as pd\n",
        "\n",
        "data = pd.read_csv('/content/movie_bd_v5.csv')\n",
        "data['profit']= data.revenue - data.budget\n",
        "data9=data.query('release_year ==2008')\n",
        "data9.original_title[data9.profit == max(data9.profit)]"
      ],
      "execution_count": null,
      "outputs": [
        {
          "output_type": "execute_result",
          "data": {
            "text/plain": [
              "599    The Dark Knight\n",
              "Name: original_title, dtype: object"
            ]
          },
          "metadata": {
            "tags": []
          },
          "execution_count": 11
        }
      ]
    },
    {
      "cell_type": "markdown",
      "metadata": {
        "id": "Efa_LTQTrKYe"
      },
      "source": [
        "Вопрос 10. Самый убыточный фильм за период с 2012 по 2014 годы (включительно)?"
      ]
    },
    {
      "cell_type": "code",
      "metadata": {
        "id": "VoPk5CquCjHy",
        "outputId": "e792bba1-8f16-4a98-8f1b-558c7b06f623",
        "colab": {
          "base_uri": "https://localhost:8080/"
        }
      },
      "source": [
        "import pandas as pd\n",
        "\n",
        "data = pd.read_csv('/content/movie_bd_v5.csv')\n",
        "data['profit']= data.revenue - data.budget\n",
        "data10=data.query('release_year >=2012 & release_year<=2014')\n",
        "data10.original_title[data10.profit == min(data10.profit)]"
      ],
      "execution_count": null,
      "outputs": [
        {
          "output_type": "execute_result",
          "data": {
            "text/plain": [
              "1245    The Lone Ranger\n",
              "Name: original_title, dtype: object"
            ]
          },
          "metadata": {
            "tags": []
          },
          "execution_count": 10
        }
      ]
    },
    {
      "cell_type": "markdown",
      "metadata": {
        "id": "5BNmp9j4lLon"
      },
      "source": [
        "Вопрос 11. Какого жанра фильмов больше всего?"
      ]
    },
    {
      "cell_type": "code",
      "metadata": {
        "id": "VJ8EPYnkrapv",
        "outputId": "ca5b0eba-96c5-427e-f897-f8c33ac2b04d",
        "colab": {
          "base_uri": "https://localhost:8080/"
        }
      },
      "source": [
        "import pandas as pd\n",
        "from collections import Counter\n",
        "\n",
        "data11 = pd.read_csv('/content/movie_bd_v5.csv')\n",
        "data11['genres']=data11['genres'].apply(lambda x:x.split('|'))\n",
        "Counter(data11.explode('genres')['genres']).most_common(1)"
      ],
      "execution_count": null,
      "outputs": [
        {
          "output_type": "execute_result",
          "data": {
            "text/plain": [
              "[('Drama', 782)]"
            ]
          },
          "metadata": {
            "tags": []
          },
          "execution_count": 12
        }
      ]
    },
    {
      "cell_type": "markdown",
      "metadata": {
        "id": "iXk-wFvezXhV"
      },
      "source": [
        "Вопрос 12. Фильмы какого жанра чаще всего становятся прибыльными?"
      ]
    },
    {
      "cell_type": "code",
      "metadata": {
        "id": "_uN22iK9zdF7",
        "outputId": "2f141056-ab07-4e78-a53b-22cdd8a0eff7",
        "colab": {
          "base_uri": "https://localhost:8080/"
        }
      },
      "source": [
        "import pandas as pd\n",
        "from collections import Counter\n",
        "\n",
        "data = pd.read_csv('/content/movie_bd_v5.csv')\n",
        "data['profit']= data.revenue - data.budget\n",
        "data12=data.query('profit > 0')\n",
        "data12['genres']=data12['genres'].apply(lambda x:x.split('|'))\n",
        "Counter(data12.explode('genres')['genres']).most_common(1)"
      ],
      "execution_count": null,
      "outputs": [
        {
          "output_type": "stream",
          "text": [
            "/usr/local/lib/python3.6/dist-packages/ipykernel_launcher.py:7: SettingWithCopyWarning: \n",
            "A value is trying to be set on a copy of a slice from a DataFrame.\n",
            "Try using .loc[row_indexer,col_indexer] = value instead\n",
            "\n",
            "See the caveats in the documentation: https://pandas.pydata.org/pandas-docs/stable/user_guide/indexing.html#returning-a-view-versus-a-copy\n",
            "  import sys\n"
          ],
          "name": "stderr"
        },
        {
          "output_type": "execute_result",
          "data": {
            "text/plain": [
              "[('Drama', 560)]"
            ]
          },
          "metadata": {
            "tags": []
          },
          "execution_count": 13
        }
      ]
    },
    {
      "cell_type": "markdown",
      "metadata": {
        "id": "Rp8S1nJx0HiU"
      },
      "source": [
        "Вопрос 13. У какого режиссёра самые большие суммарные кассовые сборы?"
      ]
    },
    {
      "cell_type": "code",
      "metadata": {
        "id": "IKnSXakiJ4M3",
        "outputId": "1cd68a0d-b6aa-41c1-c32a-d34c439e96f1",
        "colab": {
          "base_uri": "https://localhost:8080/",
          "height": 112
        }
      },
      "source": [
        "import pandas as pd\n",
        "from collections import Counter\n",
        "\n",
        "data = pd.read_csv('/content/movie_bd_v5.csv')\n",
        "data13=data.groupby('director').sum().revenue\n",
        "data13= pd.DataFrame(data13)\n",
        "data13[data13.revenue == max(data13.revenue)]"
      ],
      "execution_count": null,
      "outputs": [
        {
          "output_type": "execute_result",
          "data": {
            "text/html": [
              "<div>\n",
              "<style scoped>\n",
              "    .dataframe tbody tr th:only-of-type {\n",
              "        vertical-align: middle;\n",
              "    }\n",
              "\n",
              "    .dataframe tbody tr th {\n",
              "        vertical-align: top;\n",
              "    }\n",
              "\n",
              "    .dataframe thead th {\n",
              "        text-align: right;\n",
              "    }\n",
              "</style>\n",
              "<table border=\"1\" class=\"dataframe\">\n",
              "  <thead>\n",
              "    <tr style=\"text-align: right;\">\n",
              "      <th></th>\n",
              "      <th>revenue</th>\n",
              "    </tr>\n",
              "    <tr>\n",
              "      <th>director</th>\n",
              "      <th></th>\n",
              "    </tr>\n",
              "  </thead>\n",
              "  <tbody>\n",
              "    <tr>\n",
              "      <th>Peter Jackson</th>\n",
              "      <td>6490593685</td>\n",
              "    </tr>\n",
              "  </tbody>\n",
              "</table>\n",
              "</div>"
            ],
            "text/plain": [
              "                  revenue\n",
              "director                 \n",
              "Peter Jackson  6490593685"
            ]
          },
          "metadata": {
            "tags": []
          },
          "execution_count": 14
        }
      ]
    },
    {
      "cell_type": "markdown",
      "metadata": {
        "id": "eHNsw-_AAytY"
      },
      "source": [
        "Вопрос 14. Какой режиссер снял больше всего фильмов в стиле Action?"
      ]
    },
    {
      "cell_type": "code",
      "metadata": {
        "id": "EPrjFPa9N0CJ",
        "outputId": "a4b57be6-eee5-48e3-e10f-93eafa20c547",
        "colab": {
          "base_uri": "https://localhost:8080/"
        }
      },
      "source": [
        "import pandas as pd\n",
        "\n",
        "data = pd.read_csv('/content/movie_bd_v5.csv')\n",
        "data=data[data.genres.str.contains(\"Action\")] \n",
        "data14=data.groupby('director').count().genres\n",
        "data14= pd.DataFrame(data14)\n",
        "data14.genres.sort_values()"
      ],
      "execution_count": null,
      "outputs": [
        {
          "output_type": "execute_result",
          "data": {
            "text/plain": [
              "director\n",
              "Adam McKay            1\n",
              "Kevin Macdonald       1\n",
              "Kevin Smith           1\n",
              "Kurt Wimmer           1\n",
              "Les Mayfield          1\n",
              "                     ..\n",
              "Antoine Fuqua         6\n",
              "Ridley Scott          6\n",
              "Robert Rodriguez      6\n",
              "Paul W.S. Anderson    7\n",
              "Michael Bay           7\n",
              "Name: genres, Length: 345, dtype: int64"
            ]
          },
          "metadata": {
            "tags": []
          },
          "execution_count": 15
        }
      ]
    },
    {
      "cell_type": "markdown",
      "metadata": {
        "id": "oE2VoiAjdb1L"
      },
      "source": [
        "Вопрос 15. Фильмы с каким актером принесли самые высокие кассовые сборы в 2012 году?"
      ]
    },
    {
      "cell_type": "code",
      "metadata": {
        "id": "7BRKOezSVo0f",
        "outputId": "dc3be71a-3522-4ee1-cf96-d00603cb7d20",
        "colab": {
          "base_uri": "https://localhost:8080/",
          "height": 109
        }
      },
      "source": [
        "import pandas as pd\n",
        "\n",
        "data15 = pd.read_csv('/content/movie_bd_v5.csv')\n",
        "data15=data.query('release_year ==2012')\n",
        "display(data15[data15.cast.str.contains(\"Nicolas Cage\")].revenue.sum(), data15[data15.cast.str.contains(\"Tom Hardy\")].revenue.sum(), data15[data15.cast.str.contains(\"Chris Hemsworth\")].revenue.sum(), data15[data15.cast.str.contains(\"Jim Sturgess\")].revenue.sum(), data15[data15.cast.str.contains(\"Emma Stone\")].revenue.sum())"
      ],
      "execution_count": null,
      "outputs": [
        {
          "output_type": "display_data",
          "data": {
            "text/plain": [
              "2106557"
            ]
          },
          "metadata": {
            "tags": []
          }
        },
        {
          "output_type": "display_data",
          "data": {
            "text/plain": [
              "1134717867"
            ]
          },
          "metadata": {
            "tags": []
          }
        },
        {
          "output_type": "display_data",
          "data": {
            "text/plain": [
              "2027450773"
            ]
          },
          "metadata": {
            "tags": []
          }
        },
        {
          "output_type": "display_data",
          "data": {
            "text/plain": [
              "138589343"
            ]
          },
          "metadata": {
            "tags": []
          }
        },
        {
          "output_type": "display_data",
          "data": {
            "text/plain": [
              "752215857"
            ]
          },
          "metadata": {
            "tags": []
          }
        }
      ]
    },
    {
      "cell_type": "markdown",
      "metadata": {
        "id": "dTTDzPtUe2xh"
      },
      "source": [
        "Вопрос 16. Какой актер снялся в большем количестве высокобюджетных фильмов?"
      ]
    },
    {
      "cell_type": "code",
      "metadata": {
        "id": "cCWtnm3HXEe8",
        "outputId": "750bd960-250f-41d4-bd66-fd4cec82457f",
        "colab": {
          "base_uri": "https://localhost:8080/"
        }
      },
      "source": [
        "import pandas as pd\n",
        "from collections import Counter\n",
        "\n",
        "data = pd.read_csv('/content/movie_bd_v5.csv')\n",
        "data16=data.query('budget > budget.mean()')\n",
        "data16['cast']=data16['cast'].apply(lambda x:x.split('|'))\n",
        "Counter(data16.explode('cast')['cast']).most_common(1)"
      ],
      "execution_count": null,
      "outputs": [
        {
          "output_type": "stream",
          "text": [
            "/usr/local/lib/python3.6/dist-packages/ipykernel_launcher.py:6: SettingWithCopyWarning: \n",
            "A value is trying to be set on a copy of a slice from a DataFrame.\n",
            "Try using .loc[row_indexer,col_indexer] = value instead\n",
            "\n",
            "See the caveats in the documentation: https://pandas.pydata.org/pandas-docs/stable/user_guide/indexing.html#returning-a-view-versus-a-copy\n",
            "  \n"
          ],
          "name": "stderr"
        },
        {
          "output_type": "execute_result",
          "data": {
            "text/plain": [
              "[('Matt Damon', 18)]"
            ]
          },
          "metadata": {
            "tags": []
          },
          "execution_count": 22
        }
      ]
    },
    {
      "cell_type": "markdown",
      "metadata": {
        "id": "9eHZYO-CfxP3"
      },
      "source": [
        "Вопрос 17. В фильмах какого жанра больше всего снимался Nicolas Cage?"
      ]
    },
    {
      "cell_type": "code",
      "metadata": {
        "id": "F9rmdrHZf9FL",
        "outputId": "1f5a5fc0-8bd8-4588-a3f7-a16392f12853",
        "colab": {
          "base_uri": "https://localhost:8080/"
        }
      },
      "source": [
        "from collections import Counter\n",
        "import pandas as pd\n",
        "\n",
        "data = pd.read_csv('/content/movie_bd_v5.csv')\n",
        "data17=data[data.cast.str.contains(\"Nicolas Cage\")]\n",
        "data17['genres']=data17['genres'].apply(lambda x:x.split('|'))\n",
        "Counter(data17.explode('genres')['genres']).most_common(1)"
      ],
      "execution_count": null,
      "outputs": [
        {
          "output_type": "stream",
          "text": [
            "/usr/local/lib/python3.6/dist-packages/ipykernel_launcher.py:6: SettingWithCopyWarning: \n",
            "A value is trying to be set on a copy of a slice from a DataFrame.\n",
            "Try using .loc[row_indexer,col_indexer] = value instead\n",
            "\n",
            "See the caveats in the documentation: https://pandas.pydata.org/pandas-docs/stable/user_guide/indexing.html#returning-a-view-versus-a-copy\n",
            "  \n"
          ],
          "name": "stderr"
        },
        {
          "output_type": "execute_result",
          "data": {
            "text/plain": [
              "[('Action', 17)]"
            ]
          },
          "metadata": {
            "tags": []
          },
          "execution_count": 24
        }
      ]
    },
    {
      "cell_type": "markdown",
      "metadata": {
        "id": "g2g_vZXxgSxI"
      },
      "source": [
        "Вопрос 18. Самый убыточный фильм от Paramount Pictures?"
      ]
    },
    {
      "cell_type": "code",
      "metadata": {
        "id": "TlIIN7QagZtH",
        "outputId": "81c26ef5-0469-4670-85fb-f1e9c2d443fd",
        "colab": {
          "base_uri": "https://localhost:8080/"
        }
      },
      "source": [
        "import pandas as pd\n",
        "\n",
        "data = pd.read_csv('/content/movie_bd_v5.csv')\n",
        "data['profit']= data.revenue - data.budget\n",
        "data18=data[data.production_companies.str.contains(\"Paramount Pictures\")]\n",
        "data18.original_title[data18.profit == min(data18.profit)]"
      ],
      "execution_count": null,
      "outputs": [
        {
          "output_type": "execute_result",
          "data": {
            "text/plain": [
              "925    K-19: The Widowmaker\n",
              "Name: original_title, dtype: object"
            ]
          },
          "metadata": {
            "tags": []
          },
          "execution_count": 25
        }
      ]
    },
    {
      "cell_type": "markdown",
      "metadata": {
        "id": "DxeADQUjg8wD"
      },
      "source": [
        "Вопрос 19. Какой год стал самым успешным по суммарным кассовым сборам?"
      ]
    },
    {
      "cell_type": "code",
      "metadata": {
        "id": "Bk7J3ceiXQJu",
        "outputId": "1488ed70-9979-4f0f-f59f-87f6021e1f71",
        "colab": {
          "base_uri": "https://localhost:8080/",
          "height": 112
        }
      },
      "source": [
        "import pandas as pd\n",
        "\n",
        "data = pd.read_csv('/content/movie_bd_v5.csv')\n",
        "data19=data.groupby('release_year').revenue.sum()\n",
        "data19.sort_values()\n",
        "data19= pd.DataFrame(data19)\n",
        "data19[data19.revenue == max(data19.revenue)]"
      ],
      "execution_count": null,
      "outputs": [
        {
          "output_type": "execute_result",
          "data": {
            "text/html": [
              "<div>\n",
              "<style scoped>\n",
              "    .dataframe tbody tr th:only-of-type {\n",
              "        vertical-align: middle;\n",
              "    }\n",
              "\n",
              "    .dataframe tbody tr th {\n",
              "        vertical-align: top;\n",
              "    }\n",
              "\n",
              "    .dataframe thead th {\n",
              "        text-align: right;\n",
              "    }\n",
              "</style>\n",
              "<table border=\"1\" class=\"dataframe\">\n",
              "  <thead>\n",
              "    <tr style=\"text-align: right;\">\n",
              "      <th></th>\n",
              "      <th>revenue</th>\n",
              "    </tr>\n",
              "    <tr>\n",
              "      <th>release_year</th>\n",
              "      <th></th>\n",
              "    </tr>\n",
              "  </thead>\n",
              "  <tbody>\n",
              "    <tr>\n",
              "      <th>2015</th>\n",
              "      <td>25449202382</td>\n",
              "    </tr>\n",
              "  </tbody>\n",
              "</table>\n",
              "</div>"
            ],
            "text/plain": [
              "                  revenue\n",
              "release_year             \n",
              "2015          25449202382"
            ]
          },
          "metadata": {
            "tags": []
          },
          "execution_count": 26
        }
      ]
    },
    {
      "cell_type": "markdown",
      "metadata": {
        "id": "kLiaPNnWsvWb"
      },
      "source": [
        "Вопрос 20. Какой самый прибыльный год для студии Warner Bros?"
      ]
    },
    {
      "cell_type": "code",
      "metadata": {
        "id": "_NR5lcAapixq",
        "outputId": "5b249c51-e698-47ae-8ea4-839f521584ad",
        "colab": {
          "base_uri": "https://localhost:8080/",
          "height": 112
        }
      },
      "source": [
        "import pandas as pd\n",
        "\n",
        "data = pd.read_csv('/content/movie_bd_v5.csv')\n",
        "data['profit']= data.revenue - data.budget\n",
        "data=data[data.production_companies.str.contains(\"Warner Bros\")] \n",
        "data20=data.groupby('release_year').profit.sum()\n",
        "data20= pd.DataFrame(data20)\n",
        "data20[data20.profit == max(data20.profit)]"
      ],
      "execution_count": null,
      "outputs": [
        {
          "output_type": "execute_result",
          "data": {
            "text/html": [
              "<div>\n",
              "<style scoped>\n",
              "    .dataframe tbody tr th:only-of-type {\n",
              "        vertical-align: middle;\n",
              "    }\n",
              "\n",
              "    .dataframe tbody tr th {\n",
              "        vertical-align: top;\n",
              "    }\n",
              "\n",
              "    .dataframe thead th {\n",
              "        text-align: right;\n",
              "    }\n",
              "</style>\n",
              "<table border=\"1\" class=\"dataframe\">\n",
              "  <thead>\n",
              "    <tr style=\"text-align: right;\">\n",
              "      <th></th>\n",
              "      <th>profit</th>\n",
              "    </tr>\n",
              "    <tr>\n",
              "      <th>release_year</th>\n",
              "      <th></th>\n",
              "    </tr>\n",
              "  </thead>\n",
              "  <tbody>\n",
              "    <tr>\n",
              "      <th>2014</th>\n",
              "      <td>2295464519</td>\n",
              "    </tr>\n",
              "  </tbody>\n",
              "</table>\n",
              "</div>"
            ],
            "text/plain": [
              "                  profit\n",
              "release_year            \n",
              "2014          2295464519"
            ]
          },
          "metadata": {
            "tags": []
          },
          "execution_count": 27
        }
      ]
    },
    {
      "cell_type": "markdown",
      "metadata": {
        "id": "CsGrj8YetGo7"
      },
      "source": [
        "Вопрос 21. В каком месяце за все годы суммарно вышло больше всего фильмов?"
      ]
    },
    {
      "cell_type": "code",
      "metadata": {
        "id": "v6Ft4LI1p8XA",
        "outputId": "1b0a8ed6-915a-426f-eb88-b031a21220bd",
        "colab": {
          "base_uri": "https://localhost:8080/",
          "height": 112
        }
      },
      "source": [
        "import pandas as pd\n",
        "\n",
        "data = pd.read_csv('/content/movie_bd_v5.csv')\n",
        "data['profit']= data.revenue - data.budget\n",
        "data.release_date=data.release_date.str.replace('/', ' ')\n",
        "def release_date_cor(data):\n",
        "    return data[0:2]\n",
        "data.release_date=data.release_date.apply(release_date_cor)\n",
        "data21=data.groupby('release_date').imdb_id.count()\n",
        "data21= pd.DataFrame(data21)\n",
        "data21[data21.imdb_id == max(data21.imdb_id)]"
      ],
      "execution_count": null,
      "outputs": [
        {
          "output_type": "execute_result",
          "data": {
            "text/html": [
              "<div>\n",
              "<style scoped>\n",
              "    .dataframe tbody tr th:only-of-type {\n",
              "        vertical-align: middle;\n",
              "    }\n",
              "\n",
              "    .dataframe tbody tr th {\n",
              "        vertical-align: top;\n",
              "    }\n",
              "\n",
              "    .dataframe thead th {\n",
              "        text-align: right;\n",
              "    }\n",
              "</style>\n",
              "<table border=\"1\" class=\"dataframe\">\n",
              "  <thead>\n",
              "    <tr style=\"text-align: right;\">\n",
              "      <th></th>\n",
              "      <th>imdb_id</th>\n",
              "    </tr>\n",
              "    <tr>\n",
              "      <th>release_date</th>\n",
              "      <th></th>\n",
              "    </tr>\n",
              "  </thead>\n",
              "  <tbody>\n",
              "    <tr>\n",
              "      <th>9</th>\n",
              "      <td>227</td>\n",
              "    </tr>\n",
              "  </tbody>\n",
              "</table>\n",
              "</div>"
            ],
            "text/plain": [
              "              imdb_id\n",
              "release_date         \n",
              "9                 227"
            ]
          },
          "metadata": {
            "tags": []
          },
          "execution_count": 28
        }
      ]
    },
    {
      "cell_type": "markdown",
      "metadata": {
        "id": "a7d4nrNS__FM"
      },
      "source": [
        "Вопрос 22. Сколько суммарно вышло фильмов летом (за июнь, июль, август)?"
      ]
    },
    {
      "cell_type": "code",
      "metadata": {
        "id": "0TZ2Up0tAPtf",
        "outputId": "6f26b45c-ab39-4647-829d-953ebd7454b0",
        "colab": {
          "base_uri": "https://localhost:8080/"
        }
      },
      "source": [
        "import pandas as pd\n",
        "\n",
        "data = pd.read_csv('/content/movie_bd_v5.csv')\n",
        "data['profit']= data.revenue - data.budget\n",
        "data.release_date=data.release_date.str.replace('/', ' ')\n",
        "def release_date_cor(data):\n",
        "    return data[0:2]\n",
        "data.release_date=data.release_date.apply(release_date_cor)\n",
        "data22=data.groupby('release_date').imdb_id.count()\n",
        "data22= pd.DataFrame(data22)\n",
        "data22.imdb_id[8]+data22.imdb_id[9]+data22.imdb_id[10]\n"
      ],
      "execution_count": null,
      "outputs": [
        {
          "output_type": "execute_result",
          "data": {
            "text/plain": [
              "450"
            ]
          },
          "metadata": {
            "tags": []
          },
          "execution_count": 30
        }
      ]
    },
    {
      "cell_type": "markdown",
      "metadata": {
        "id": "WWdKAuPBCK3W"
      },
      "source": [
        "Вопрос 23. Для какого режиссера зима — самое продуктивное время года?"
      ]
    },
    {
      "cell_type": "code",
      "metadata": {
        "id": "CUytUYRONN6G",
        "outputId": "655d7577-e92b-412d-d3f0-76a51d8fcf58",
        "colab": {
          "base_uri": "https://localhost:8080/",
          "height": 448
        }
      },
      "source": [
        "import pandas as pd\n",
        "\n",
        "data = pd.read_csv('/content/movie_bd_v5.csv')\n",
        "data['director']= data['director'].apply(lambda x:x.split('|'))\n",
        "data.release_date=data.release_date.str.replace('/', ' ')\n",
        "def release_date_cor(data):\n",
        "    return data[0:2]\n",
        "data['release_date']=data.release_date.apply(release_date_cor)\n",
        "data23 = data.loc[data['release_date'].isin(['12', '1', '2'])]\n",
        "data23['director'].value_counts()"
      ],
      "execution_count": null,
      "outputs": [
        {
          "output_type": "error",
          "ename": "TypeError",
          "evalue": "ignored",
          "traceback": [
            "\u001b[0;31m---------------------------------------------------------------------------\u001b[0m",
            "\u001b[0;31mTypeError\u001b[0m                                 Traceback (most recent call last)",
            "\u001b[0;32mpandas/_libs/hashtable_class_helper.pxi\u001b[0m in \u001b[0;36mpandas._libs.hashtable.PyObjectHashTable.map_locations\u001b[0;34m()\u001b[0m\n",
            "\u001b[0;31mTypeError\u001b[0m: unhashable type: 'list'"
          ]
        },
        {
          "output_type": "stream",
          "text": [
            "Exception ignored in: 'pandas._libs.index.IndexEngine._call_map_locations'\n",
            "Traceback (most recent call last):\n",
            "  File \"pandas/_libs/hashtable_class_helper.pxi\", line 1709, in pandas._libs.hashtable.PyObjectHashTable.map_locations\n",
            "TypeError: unhashable type: 'list'\n"
          ],
          "name": "stderr"
        },
        {
          "output_type": "execute_result",
          "data": {
            "text/plain": [
              "[Peter Jackson]        7\n",
              "[Clint Eastwood]       5\n",
              "[Steven Soderbergh]    4\n",
              "[Nancy Meyers]         4\n",
              "[Edward Zwick]         3\n",
              "                      ..\n",
              "[Jessie Nelson]        1\n",
              "[Ben Stiller]          1\n",
              "[Donald Petrie]        1\n",
              "[J.J. Abrams]          1\n",
              "[Robert De Niro]       1\n",
              "Name: director, Length: 145, dtype: int64"
            ]
          },
          "metadata": {
            "tags": []
          },
          "execution_count": 31
        }
      ]
    },
    {
      "cell_type": "markdown",
      "metadata": {
        "id": "37MX6tQbJu41"
      },
      "source": [
        "Вопрос 24. Какая студия даёт самые длинные названия своим фильмам по количеству символов?"
      ]
    },
    {
      "cell_type": "code",
      "metadata": {
        "id": "4TbNzOMPJuN5",
        "outputId": "452dadbf-35df-435f-8ce7-f6d5c8c6180f",
        "colab": {
          "base_uri": "https://localhost:8080/"
        }
      },
      "source": [
        "import pandas as pd\n",
        "\n",
        "data = pd.read_csv('/content/movie_bd_v5.csv')\n",
        "data['number_of_characters'] = data.original_title.apply(lambda x: len(x))\n",
        "data['production_companies_list'] = data.production_companies.str.split('|')\n",
        "production_companies_df = data.explode('production_companies_list')\n",
        "data24 = production_companies_df.groupby('production_companies_list').number_of_characters.mean().sort_values(ascending=False)"
      ],
      "execution_count": null,
      "outputs": [
        {
          "output_type": "execute_result",
          "data": {
            "text/plain": [
              "production_companies_list\n",
              "Four By Two Productions       83.0\n",
              "Jim Henson Company, The       59.0\n",
              "Dos Corazones                 47.0\n",
              "Museum Canada Productions     46.0\n",
              "Polsky Films                  46.0\n",
              "                              ... \n",
              "Everest Entertainment          3.0\n",
              "Berlanti Productions           3.0\n",
              "XM2 Productions                2.0\n",
              "Ixtlan Productions             2.0\n",
              "Global Entertainment Group     2.0\n",
              "Name: number_of_characters, Length: 1771, dtype: float64"
            ]
          },
          "metadata": {
            "tags": []
          },
          "execution_count": 33
        }
      ]
    },
    {
      "cell_type": "markdown",
      "metadata": {
        "id": "ELTmhUasO-Nt"
      },
      "source": [
        "Вопрос 25. Описания фильмов какой студии в среднем самые длинные по количеству слов?"
      ]
    },
    {
      "cell_type": "code",
      "metadata": {
        "id": "snrMlj-OPBDS",
        "outputId": "008a17f3-4656-40fc-e1f7-d95c0c8de930",
        "colab": {
          "base_uri": "https://localhost:8080/"
        }
      },
      "source": [
        "import pandas as pd\n",
        "\n",
        "data25 = pd.read_csv('/content/movie_bd_v5.csv')\n",
        "data25['number_of_characters'] = data25.overview.apply(lambda x: len(x.split(' ')))\n",
        "data25['production_companies_list'] = data25.production_companies.str.split('|')\n",
        "production_companies_df = data25.explode('production_companies_list')\n",
        "production_companies_df.groupby('production_companies_list').number_of_characters.mean().sort_values(ascending=False)"
      ],
      "execution_count": null,
      "outputs": [
        {
          "output_type": "execute_result",
          "data": {
            "text/plain": [
              "production_companies_list\n",
              "Midnight Picture Show                    175.0\n",
              "Room 9 Entertainment                     161.0\n",
              "Heineken Branded Entertainment           161.0\n",
              "98 MPH Productions                       159.0\n",
              "Brookwell-McNamara Entertainment         156.0\n",
              "                                         ...  \n",
              "London Boulevard                          13.0\n",
              "Phantom Four                              13.0\n",
              "Henceforth                                13.0\n",
              "Empire Pictures                           11.0\n",
              "Motion Picture Corporation of America     11.0\n",
              "Name: number_of_characters, Length: 1771, dtype: float64"
            ]
          },
          "metadata": {
            "tags": []
          },
          "execution_count": 39
        }
      ]
    },
    {
      "cell_type": "markdown",
      "metadata": {
        "id": "ZRietu8XPk2d"
      },
      "source": [
        "Вопрос 26. Какие фильмы входят в один процент лучших по рейтингу?"
      ]
    },
    {
      "cell_type": "code",
      "metadata": {
        "id": "vhFJRd1IPnql",
        "outputId": "be357065-2935-42e3-c9bb-b4f4247f6670",
        "colab": {
          "base_uri": "https://localhost:8080/"
        }
      },
      "source": [
        "import pandas as pd\n",
        "\n",
        "data26 = pd.read_csv('/content/movie_bd_v5.csv')\n",
        "best_movies_percent_df = data26.sort_values(by='vote_average').tail(int(data.original_title.count()/100)).original_title\n",
        "best_movies_percent_df.tolist()"
      ],
      "execution_count": null,
      "outputs": [
        {
          "output_type": "execute_result",
          "data": {
            "text/plain": [
              "['The Theory of Everything',\n",
              " 'The Lord of the Rings: The Two Towers',\n",
              " 'There Will Be Blood',\n",
              " 'Mr. Nobody',\n",
              " '12 Years a Slave',\n",
              " 'The Pianist',\n",
              " 'Gone Girl',\n",
              " 'Memento',\n",
              " 'Guardians of the Galaxy',\n",
              " 'Inception',\n",
              " 'The Wolf of Wall Street',\n",
              " 'The Grand Budapest Hotel',\n",
              " 'The Lord of the Rings: The Return of the King',\n",
              " 'Room',\n",
              " 'Interstellar',\n",
              " 'Inside Out',\n",
              " 'The Imitation Game',\n",
              " 'The Dark Knight']"
            ]
          },
          "metadata": {
            "tags": []
          },
          "execution_count": 38
        }
      ]
    },
    {
      "cell_type": "markdown",
      "metadata": {
        "id": "Yh79Q-GLT7oW"
      },
      "source": [
        "Вопрос 27. Какие актеры чаще всего снимаются в одном фильме вместе?"
      ]
    },
    {
      "cell_type": "code",
      "metadata": {
        "id": "DKvo1JS8UDcZ",
        "outputId": "ea5474ac-bb7d-4c0e-da5c-222d035ea609",
        "colab": {
          "base_uri": "https://localhost:8080/"
        }
      },
      "source": [
        "import pandas as pd\n",
        "import itertools \n",
        "from collections import Counter\n",
        "\n",
        "data27 = pd.read_csv('/content/movie_bd_v5.csv')\n",
        "data27['cast'] = data27['cast'].str.split('|')\n",
        "data27=data27['cast'].reset_index()\n",
        "data27['pairs'] = data27['cast'].apply(lambda x: list(itertools.combinations(x,2)))\n",
        "data27=data27.explode('pairs').reset_index()\n",
        "Counter(data27['pairs']).most_common(1)"
      ],
      "execution_count": null,
      "outputs": [
        {
          "output_type": "execute_result",
          "data": {
            "text/plain": [
              "[(('Daniel Radcliffe', 'Rupert Grint'), 8)]"
            ]
          },
          "metadata": {
            "tags": []
          },
          "execution_count": 47
        }
      ]
    }
  ]
}